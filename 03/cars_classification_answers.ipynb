{
 "cells": [
  {
   "cell_type": "code",
   "execution_count": null,
   "metadata": {
    "collapsed": true
   },
   "outputs": [],
   "source": [
    "import pickle\n",
    "import numpy as np\n",
    "import matplotlib.pyplot as plt\n",
    "\n",
    "%matplotlib inline"
   ]
  },
  {
   "cell_type": "code",
   "execution_count": null,
   "metadata": {
    "collapsed": true
   },
   "outputs": [],
   "source": [
    "# データ読み込み\n",
    "cars_x = pickle.load(open(\"train_feature.pkl\", \"br\"))\n",
    "cars_t = pickle.load(open(\"train_label.pkl\", \"br\"))\n",
    "x = np.array(cars_x, dtype=np.float32)\n",
    "t = np.array(cars_t, dtype=np.int32)\n",
    "\n",
    "t_one_hot = np.zeros([len(t), 4], dtype=np.float32)\n",
    "t_one_hot[range(len(t)), t] = 1.\n",
    "\n",
    "# t： 目標変数\n",
    "#   訴求力（unacc 0, acc 1, good 2, vgood 3) \n",
    "# x： 入力変数\n",
    "#   0: 購入時の価格\n",
    "#   1: メンテナンス費用\n",
    "#   2: ドア数\n",
    "#   3: 乗車定員\n",
    "#   4: トランクのサイズ\n",
    "#   5: 安全性"
   ]
  },
  {
   "cell_type": "code",
   "execution_count": null,
   "metadata": {},
   "outputs": [],
   "source": [
    "x[:10]"
   ]
  },
  {
   "cell_type": "code",
   "execution_count": null,
   "metadata": {},
   "outputs": [],
   "source": [
    "t[:10]"
   ]
  },
  {
   "cell_type": "code",
   "execution_count": null,
   "metadata": {},
   "outputs": [],
   "source": [
    "t_one_hot[:10]"
   ]
  },
  {
   "cell_type": "code",
   "execution_count": null,
   "metadata": {
    "collapsed": true
   },
   "outputs": [],
   "source": [
    "# softmax関数を用意\n",
    "def softmax(ar):\n",
    "    numerator = np.exp(ar)\n",
    "    denominator = np.sum(np.exp(ar), axis=1, keepdims=True)\n",
    "    \n",
    "    return numerator / denominator\n",
    "\n",
    "def outer_prod(a, b):\n",
    "    return np.expand_dims(a, axis=2) * np.expand_dims(b, axis=1)\n",
    "\n",
    "def report(i, cost, W, b):\n",
    "    accuracy = evaluation(W, b)\n",
    "    print(\"{:>6d}, cost: {:7.5f}, accuarcy: {:7.5f}\".format(i, cost, accuracy))\n",
    "    \n",
    "def evaluation(W, b):\n",
    "    a = activation(x, W, b)\n",
    "    ok = np.sum(np.argmax(a, axis=1) == t)\n",
    "    return ok / float(t.size)"
   ]
  },
  {
   "cell_type": "code",
   "execution_count": null,
   "metadata": {
    "collapsed": true
   },
   "outputs": [],
   "source": [
    "# モデルを用意\n",
    "def activation(x, W, b):\n",
    "    return np.dot(x, W) + b"
   ]
  },
  {
   "cell_type": "code",
   "execution_count": null,
   "metadata": {
    "collapsed": true
   },
   "outputs": [],
   "source": [
    "# パラメータの初期値設定\n",
    "def parameter_init():\n",
    "    W = np.array(\n",
    "          [[ 0.40077151, -0.408296  , -0.37673183, -0.61619607],\n",
    "           [ 0.40592896,  0.01773657,  0.12934329,  0.06548705],\n",
    "           [ 0.10079057, -0.62975309,  0.86321079,  0.65757099],\n",
    "           [-0.35792361, -0.92559288,  0.27577696,  0.27518349],\n",
    "           [-0.4146183 ,  0.33060707,  0.91997293, -0.12877118],\n",
    "           [ 0.75526573,  0.04088307, -0.82920987,  0.69621209]],\n",
    "            dtype=np.float32)\n",
    "    b = np.array([-0.20059004, -0.7472265 ,  0.6330216 , -0.57044723], dtype=np.float32)\n",
    "    return W, b\n",
    "\n",
    "W, b = parameter_init()"
   ]
  },
  {
   "cell_type": "code",
   "execution_count": null,
   "metadata": {},
   "outputs": [],
   "source": [
    "# 現在の性能を評価\n",
    "\"{:5.3f}\".format(evaluation(W, b))"
   ]
  },
  {
   "cell_type": "code",
   "execution_count": null,
   "metadata": {
    "collapsed": true
   },
   "outputs": [],
   "source": [
    "# コスト計算用の関数\n",
    "def calc_cost(W, b):\n",
    "    y = softmax(activation(x, W, b))\n",
    "    prob = y[range(1200), t]\n",
    "    minus_log_prob = -np.log(prob)\n",
    "    return np.mean(minus_log_prob)"
   ]
  },
  {
   "cell_type": "code",
   "execution_count": null,
   "metadata": {},
   "outputs": [],
   "source": [
    "# 実際の計算\n",
    "W, b = parameter_init()\n",
    "alpha = 0.1\n",
    "history = list()\n",
    "\n",
    "for i in range(5000):\n",
    "    # 現状のコスト値を計算、記録\n",
    "    # （calc_cost2が実装できていれば そちらへ切り替え）\n",
    "    cost = calc_cost(W, b)\n",
    "    history.append((cost))\n",
    "    \n",
    "    # 進捗モニタリング\n",
    "    if i % 100 == 0:\n",
    "        report(i, cost, W, b)\n",
    "\n",
    "    # 実際の学習\n",
    "    \n",
    "    # 予測\n",
    "    a = activation(x, W, b)\n",
    "    y = softmax(a)\n",
    "    \n",
    "    # errorを出しておく\n",
    "    e = y - t_one_hot\n",
    "\n",
    "    # jを W、bで微分したものをそれぞれ求める\n",
    "    j_W_deriv = outer_prod(x, e)\n",
    "    j_b_deriv = e\n",
    "    \n",
    "    # 新しいパラメータ W、bを計算\n",
    "    W_new = W - alpha * np.mean(j_W_deriv, axis=0)\n",
    "    b_new = b - alpha * np.mean(j_b_deriv, axis=0)\n",
    "    \n",
    "    # 新旧パラメータをまとめて入れ替え\n",
    "    W = W_new\n",
    "    b = b_new\n",
    "    \n",
    "report(i, cost, W, b)"
   ]
  },
  {
   "cell_type": "code",
   "execution_count": null,
   "metadata": {},
   "outputs": [],
   "source": [
    "# 学習曲線\n",
    "plt.plot([t for t in history])\n",
    "plt.xlabel(\"iterations\")\n",
    "plt.ylabel(\"cost\")"
   ]
  },
  {
   "cell_type": "code",
   "execution_count": null,
   "metadata": {
    "collapsed": true
   },
   "outputs": [],
   "source": [
    "import tensorflow as tf\n",
    "tf.__version__"
   ]
  }
 ],
 "metadata": {
  "kernelspec": {
   "display_name": "Python 3",
   "language": "python",
   "name": "python3"
  },
  "language_info": {
   "codemirror_mode": {
    "name": "ipython",
    "version": 3
   },
   "file_extension": ".py",
   "mimetype": "text/x-python",
   "name": "python",
   "nbconvert_exporter": "python",
   "pygments_lexer": "ipython3",
   "version": "3.6.1"
  }
 },
 "nbformat": 4,
 "nbformat_minor": 2
}
